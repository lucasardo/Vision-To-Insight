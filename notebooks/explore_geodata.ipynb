{
 "cells": [
  {
   "cell_type": "code",
   "execution_count": 2,
   "metadata": {},
   "outputs": [],
   "source": [
    "import json\n",
    "import numpy as np"
   ]
  },
  {
   "cell_type": "code",
   "execution_count": 3,
   "metadata": {},
   "outputs": [
    {
     "data": {
      "text/plain": [
       "dict_keys(['type', 'crs', 'features'])"
      ]
     },
     "execution_count": 3,
     "metadata": {},
     "output_type": "execute_result"
    }
   ],
   "source": [
    "\n",
    "def read_geojson(filename):\n",
    "    with open(filename, 'r') as f:\n",
    "        data = json.load(f)\n",
    "    return data\n",
    "\n",
    "geodata = read_geojson('geodata/USAG_Vicenza_v2.1.5.geojson')\n",
    "geodata.keys()"
   ]
  },
  {
   "cell_type": "code",
   "execution_count": 4,
   "metadata": {},
   "outputs": [
    {
     "data": {
      "text/plain": [
       "dict_keys(['type', 'id', 'geometry', 'properties'])"
      ]
     },
     "execution_count": 4,
     "metadata": {},
     "output_type": "execute_result"
    }
   ],
   "source": [
    "geodata['features'][0].keys()"
   ]
  },
  {
   "cell_type": "code",
   "execution_count": 6,
   "metadata": {},
   "outputs": [
    {
     "data": {
      "text/plain": [
       "{'objectid': 2121,\n",
       " 'globalid': '3631e232-6594-4563-9406-b8118d945bdc',\n",
       " 'new_point': 'n',\n",
       " 'location_csv': '1643',\n",
       " 'temp_point_name': None,\n",
       " 'location': '1643',\n",
       " 'x': '11.578446',\n",
       " 'y': '45.54406',\n",
       " 'z': '34.32',\n",
       " 'utility': 'wastewater',\n",
       " 'navigator_comm': None,\n",
       " 'navigator_el': None,\n",
       " 'navigator_therm': None,\n",
       " 'navigator_gas': None,\n",
       " 'navigator_sw': None,\n",
       " 'navigator_ww': 'ww_manhole,ww_utility_node,ww_fitting',\n",
       " 'navigator_w': None,\n",
       " 'building_name2': '',\n",
       " 'wsp_manhole_shape': 'circle',\n",
       " 'dim': 'Cylindrical horizontal cross section 60cm',\n",
       " 'wsp_report': None,\n",
       " 'wsp_report_other': None,\n",
       " 'wsp_safety': '',\n",
       " 'wsp_report_description': None,\n",
       " 'complete_node': 'y',\n",
       " 'complete_node_ynmaybe': 'n',\n",
       " 'solved_report': 'n',\n",
       " 'CreationDate': 'Fri, 14 Jun 2024 08:37:20 GMT',\n",
       " 'Creator': 'adalmaso_wsp',\n",
       " 'EditDate': 'Mon, 01 Jul 2024 07:17:28 GMT',\n",
       " 'Editor': 'adalmaso_wsp',\n",
       " 'new_point_det': None,\n",
       " 'dim1': 60,\n",
       " 'dim2': None}"
      ]
     },
     "execution_count": 6,
     "metadata": {},
     "output_type": "execute_result"
    }
   ],
   "source": [
    "geodata['features'][1000]['properties']"
   ]
  },
  {
   "cell_type": "code",
   "execution_count": null,
   "metadata": {},
   "outputs": [
    {
     "data": {
      "text/plain": [
       "array(['communication', 'el_switch', 'electricity', 'gas', 'stormwater',\n",
       "       'thermal', 'wastewater', 'water'], dtype='<U13')"
      ]
     },
     "execution_count": 31,
     "metadata": {},
     "output_type": "execute_result"
    }
   ],
   "source": [
    "utilities = []\n",
    "\n",
    "for feature in geodata['features']:\n",
    "\n",
    "    try:\n",
    "        utilities.append(feature['properties']['utility'])\n",
    "    except KeyError:\n",
    "        pass\n",
    "\n",
    "# Remove none values\n",
    "utilities = [u for u in utilities if u is not None]\n",
    "\n",
    "# Split values using ',' and flatten\n",
    "utilities = [u.split(',') for u in utilities]\n",
    "utilities = [item for sublist in utilities for item in sublist]\n",
    "\n",
    "all_ut = np.unique(utilities)\n",
    "\n",
    "all_ut"
   ]
  },
  {
   "cell_type": "code",
   "execution_count": 7,
   "metadata": {},
   "outputs": [
    {
     "data": {
      "text/plain": [
       "array(['sw_manhole', 'ww_fitting', 'ww_greasetrap', 'ww_manhole',\n",
       "       'ww_oil_water_sep', 'ww_tank', 'ww_utility_node'], dtype='<U16')"
      ]
     },
     "execution_count": 7,
     "metadata": {},
     "output_type": "execute_result"
    }
   ],
   "source": [
    "utilities = []\n",
    "\n",
    "for feature in geodata['features']:\n",
    "\n",
    "    try:\n",
    "        utilities.append(feature['properties']['navigator_ww'])\n",
    "    except KeyError:\n",
    "        pass\n",
    "\n",
    "# Remove none values\n",
    "utilities = [u for u in utilities if u is not None]\n",
    "\n",
    "# Split values using ',' and flatten\n",
    "utilities = [u.split(',') for u in utilities]\n",
    "utilities = [item for sublist in utilities for item in sublist]\n",
    "\n",
    "all_ut = np.unique(utilities)\n",
    "\n",
    "all_ut"
   ]
  }
 ],
 "metadata": {
  "kernelspec": {
   "display_name": "climai",
   "language": "python",
   "name": "python3"
  },
  "language_info": {
   "codemirror_mode": {
    "name": "ipython",
    "version": 3
   },
   "file_extension": ".py",
   "mimetype": "text/x-python",
   "name": "python",
   "nbconvert_exporter": "python",
   "pygments_lexer": "ipython3",
   "version": "3.11.8"
  }
 },
 "nbformat": 4,
 "nbformat_minor": 2
}
